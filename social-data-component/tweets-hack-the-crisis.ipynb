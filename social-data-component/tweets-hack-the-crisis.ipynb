{
 "cells": [
  {
   "cell_type": "markdown",
   "metadata": {},
   "source": [
    "## Hack the Crisis\n",
    "\n",
    "Twitter data component."
   ]
  },
  {
   "cell_type": "code",
   "execution_count": 179,
   "metadata": {},
   "outputs": [],
   "source": [
    "import pickle\n",
    "import glob\n",
    "import re\n",
    "import pandas as pd\n",
    "from collections import Counter\n",
    "from vaderSentiment.vaderSentiment import SentimentIntensityAnalyzer\n",
    "from nltk.tokenize import sent_tokenize"
   ]
  },
  {
   "cell_type": "markdown",
   "metadata": {},
   "source": [
    "Read tweets."
   ]
  },
  {
   "cell_type": "code",
   "execution_count": 181,
   "metadata": {},
   "outputs": [],
   "source": [
    "data = pd.read_csv(\"dataset/swe_tweets.csv\")\n",
    "data['timestamp'] =  pd.to_datetime(data['timestamp'])\n",
    "data = data[['timestamp','tweet']]"
   ]
  },
  {
   "cell_type": "markdown",
   "metadata": {},
   "source": [
    "Create docs."
   ]
  },
  {
   "cell_type": "code",
   "execution_count": 182,
   "metadata": {},
   "outputs": [],
   "source": [
    "daydata = data.groupby([data['timestamp'].dt.date])"
   ]
  },
  {
   "cell_type": "code",
   "execution_count": 183,
   "metadata": {},
   "outputs": [],
   "source": [
    "for day,data in daydata:\n",
    "    with open(\"docs/\" + str(day) + \".txt\", \"w\") as docfile:\n",
    "        for t in data.tweet:\n",
    "            docfile.write(str(t) + \"\\n\")"
   ]
  },
  {
   "cell_type": "markdown",
   "metadata": {},
   "source": [
    "Sentiment scores per day."
   ]
  },
  {
   "cell_type": "code",
   "execution_count": 185,
   "metadata": {},
   "outputs": [],
   "source": [
    "# Prepare categorisation\n",
    "with open('scoring_tools/categories.pickle', 'rb') as handle:\n",
    "    category_dict = pickle.load(handle)\n",
    "with open('scoring_tools/wordfeatures.pickle', 'rb') as handle:\n",
    "    wordfeatures_dict = pickle.load(handle)"
   ]
  },
  {
   "cell_type": "code",
   "execution_count": 187,
   "metadata": {},
   "outputs": [],
   "source": [
    "# Implement Swedish translation (only of the used categories)\n",
    "transl_df = pd.read_csv(\"scoring_tools/swe_words.csv\")"
   ]
  },
  {
   "cell_type": "code",
   "execution_count": 188,
   "metadata": {},
   "outputs": [],
   "source": [
    "enwords = transl_df.en.tolist()\n",
    "swewords = transl_df.sv.tolist()\n",
    "transl_dict = dict(zip(enwords, swewords))"
   ]
  },
  {
   "cell_type": "code",
   "execution_count": 192,
   "metadata": {},
   "outputs": [],
   "source": [
    "swedish_scoring = {}\n",
    "\n",
    "for w in enwords:\n",
    "    k = transl_dict.get(w)\n",
    "    v = wordfeatures_dict.get(w)\n",
    "    swedish_scoring[k]=v"
   ]
  },
  {
   "cell_type": "code",
   "execution_count": 193,
   "metadata": {},
   "outputs": [],
   "source": [
    "# Get the daily docs\n",
    "days = [f.split(\"/\")[1].split(\".\")[0] for f in glob.glob(\"docs/*.txt\")]\n",
    "docs = [open(file,\"r\").read() for file in glob.glob(\"docs/*.txt\")]\n",
    "docs = [re.sub(\"\\n\",\" \",d) for d in docs]\n",
    "daydocs = pd.DataFrame(zip(days,docs))\n",
    "daydocs.columns=['day','text']\n",
    "daydocs = daydocs.sort_values(by=\"day\").reset_index(drop=True)"
   ]
  },
  {
   "cell_type": "code",
   "execution_count": 194,
   "metadata": {},
   "outputs": [],
   "source": [
    "days = daydocs.day.tolist()\n",
    "docs = daydocs.text.tolist()"
   ]
  },
  {
   "cell_type": "code",
   "execution_count": 195,
   "metadata": {},
   "outputs": [
    {
     "name": "stdout",
     "output_type": "stream",
     "text": [
      "82/82"
     ]
    }
   ],
   "source": [
    "dataset = []\n",
    "\n",
    "for c,doc in enumerate(docs):\n",
    "    print(\"\\r\" + str(c+1) + \"/\" + str(len(docs)), end=\"\")\n",
    "        \n",
    "    data_dict = {}\n",
    "    \n",
    "    data_dict['doc'] = doc\n",
    "    doc = doc.split()\n",
    "    doc = [w.lower().strip() for w in doc]\n",
    "    doc = [re.sub(\"\\.|,|\\:|/|\\\"|\\?|-|…|'|\\(|\\)|\\!|\\+\",\"\", w) for w in doc]\n",
    "\n",
    "    docfeatures = []\n",
    "    for w in doc:\n",
    "        if w in swedish_scoring:\n",
    "            feats = swedish_scoring[w]\n",
    "            try:\n",
    "                for f in feats:\n",
    "                    docfeatures.append(f)\n",
    "            except:\n",
    "                pass\n",
    "\n",
    "    for df in docfeatures:\n",
    "        label = category_dict[df]\n",
    "        label = label.split()[0]\n",
    "        \n",
    "    counts = Counter(docfeatures)\n",
    "    for k,v in counts.items():\n",
    "        category = category_dict[k]\n",
    "        category = category.split()[0]\n",
    "        count = v\n",
    "        proportion_by_wordcount = (v/len(doc))*100 # this gives same scores as in LIWC's own software\n",
    "        \n",
    "        data_dict[category] = round(proportion_by_wordcount, 2)\n",
    "    \n",
    "    dataset.append(data_dict)"
   ]
  },
  {
   "cell_type": "code",
   "execution_count": 196,
   "metadata": {},
   "outputs": [],
   "source": [
    "scores_df = pd.DataFrame.from_records(dataset).fillna(0)\n",
    "scores_df['day'] = days"
   ]
  },
  {
   "cell_type": "code",
   "execution_count": 197,
   "metadata": {},
   "outputs": [],
   "source": [
    "scores_df = scores_df[['day',\n",
    "                    'health',\n",
    "                    'death',\n",
    "                    'bio',\n",
    "                    'body',\n",
    "                    'affect',\n",
    "                    'anger',\n",
    "                    'swear',\n",
    "                    'anx',\n",
    "                    'sad',\n",
    "                    'feel',\n",
    "                    'friend',\n",
    "                    'family',\n",
    "                    'social',\n",
    "                    'money',\n",
    "                    'work',\n",
    "                    'relig',\n",
    "                    'power',\n",
    "                    'cause',\n",
    "                    'certain',\n",
    "                    'insight',\n",
    "                    'compare',\n",
    "                    'risk',\n",
    "                    'interrog',\n",
    "                    'focusfuture',\n",
    "                    'tentat',\n",
    "                    'quant']\n",
    "                  ]"
   ]
  },
  {
   "cell_type": "code",
   "execution_count": 199,
   "metadata": {},
   "outputs": [
    {
     "name": "stdout",
     "output_type": "stream",
     "text": [
      "82/82"
     ]
    }
   ],
   "source": [
    "# add VADER posemo and negemo\n",
    "posemo = []\n",
    "negemo = []\n",
    "\n",
    "\n",
    "analyzer = SentimentIntensityAnalyzer()\n",
    "for c,doc in enumerate(docs):\n",
    "    docpos = []\n",
    "    docneg = []\n",
    "    \n",
    "    sents = sent_tokenize(doc)\n",
    "    for sent in sents:\n",
    "        vs = analyzer.polarity_scores(sent)\n",
    "        docpos.append(vs.get('pos'))\n",
    "        docneg.append(vs.get('neg'))\n",
    "    docpos = sum(docpos)/len(docpos)\n",
    "    docneg = sum(docneg)/len(docneg)\n",
    "    posemo.append(docpos)\n",
    "    negemo.append(docneg)\n",
    "    print(\"\\r\" + str(c+1) + \"/\" + str(len(docs)), end=\"\")"
   ]
  },
  {
   "cell_type": "code",
   "execution_count": 200,
   "metadata": {},
   "outputs": [],
   "source": [
    "scores_df['posemo'] = posemo\n",
    "scores_df['negemo'] = negemo"
   ]
  },
  {
   "cell_type": "code",
   "execution_count": 201,
   "metadata": {},
   "outputs": [],
   "source": [
    "scores_df[\"diseaseIndex\"] = scores_df.health+scores_df.death+scores_df.bio+scores_df.body\n",
    "scores_df[\"emotionIndex\"] = scores_df.negemo+scores_df.affect+scores_df.anger+scores_df.swear+scores_df.anx+scores_df.sad+scores_df.posemo+scores_df.feel\n",
    "scores_df[\"relationIndex\"] = scores_df.friend+scores_df.family+scores_df.social\n",
    "scores_df[\"economyIndex\"] = scores_df.money+scores_df.work\n",
    "scores_df[\"politicalIndex\"] = scores_df.relig+scores_df.power+scores_df.cause+scores_df.certain+scores_df.insight+scores_df.compare+scores_df.risk+scores_df.interrog+scores_df.focusfuture+scores_df.tentat+scores_df.quant"
   ]
  },
  {
   "cell_type": "code",
   "execution_count": 202,
   "metadata": {},
   "outputs": [],
   "source": [
    "cols_to_norm = list(scores_df.columns)\n",
    "cols_to_norm.remove('day')"
   ]
  },
  {
   "cell_type": "code",
   "execution_count": 203,
   "metadata": {},
   "outputs": [],
   "source": [
    "scores_df[cols_to_norm] = scores_df[cols_to_norm].apply(lambda x: 2*(x - x.min()) / (x.max() - x.min())-1)"
   ]
  },
  {
   "cell_type": "code",
   "execution_count": 204,
   "metadata": {},
   "outputs": [
    {
     "data": {
      "text/html": [
       "<div>\n",
       "<style scoped>\n",
       "    .dataframe tbody tr th:only-of-type {\n",
       "        vertical-align: middle;\n",
       "    }\n",
       "\n",
       "    .dataframe tbody tr th {\n",
       "        vertical-align: top;\n",
       "    }\n",
       "\n",
       "    .dataframe thead th {\n",
       "        text-align: right;\n",
       "    }\n",
       "</style>\n",
       "<table border=\"1\" class=\"dataframe\">\n",
       "  <thead>\n",
       "    <tr style=\"text-align: right;\">\n",
       "      <th></th>\n",
       "      <th>day</th>\n",
       "      <th>health</th>\n",
       "      <th>death</th>\n",
       "      <th>bio</th>\n",
       "      <th>body</th>\n",
       "      <th>affect</th>\n",
       "      <th>anger</th>\n",
       "      <th>swear</th>\n",
       "      <th>anx</th>\n",
       "      <th>sad</th>\n",
       "      <th>...</th>\n",
       "      <th>focusfuture</th>\n",
       "      <th>tentat</th>\n",
       "      <th>quant</th>\n",
       "      <th>posemo</th>\n",
       "      <th>negemo</th>\n",
       "      <th>diseaseIndex</th>\n",
       "      <th>emotionIndex</th>\n",
       "      <th>relationIndex</th>\n",
       "      <th>economyIndex</th>\n",
       "      <th>politicalIndex</th>\n",
       "    </tr>\n",
       "  </thead>\n",
       "  <tbody>\n",
       "    <tr>\n",
       "      <th>0</th>\n",
       "      <td>2019-12-31</td>\n",
       "      <td>-1.000000</td>\n",
       "      <td>-1.000000</td>\n",
       "      <td>-1.0000</td>\n",
       "      <td>-1.000000</td>\n",
       "      <td>-1.000000</td>\n",
       "      <td>-1.000000</td>\n",
       "      <td>-1.000000</td>\n",
       "      <td>-1.000000</td>\n",
       "      <td>-1.000000</td>\n",
       "      <td>...</td>\n",
       "      <td>-1.000000</td>\n",
       "      <td>-0.171642</td>\n",
       "      <td>-1.000000</td>\n",
       "      <td>-1.000000</td>\n",
       "      <td>-1.000000</td>\n",
       "      <td>-1.0000</td>\n",
       "      <td>-1.000000</td>\n",
       "      <td>0.865640</td>\n",
       "      <td>-1.000000</td>\n",
       "      <td>-0.430039</td>\n",
       "    </tr>\n",
       "    <tr>\n",
       "      <th>1</th>\n",
       "      <td>2020-01-01</td>\n",
       "      <td>-1.000000</td>\n",
       "      <td>-1.000000</td>\n",
       "      <td>1.0000</td>\n",
       "      <td>-1.000000</td>\n",
       "      <td>-1.000000</td>\n",
       "      <td>-1.000000</td>\n",
       "      <td>-1.000000</td>\n",
       "      <td>-1.000000</td>\n",
       "      <td>-1.000000</td>\n",
       "      <td>...</td>\n",
       "      <td>-1.000000</td>\n",
       "      <td>-1.000000</td>\n",
       "      <td>-1.000000</td>\n",
       "      <td>-1.000000</td>\n",
       "      <td>-1.000000</td>\n",
       "      <td>1.0000</td>\n",
       "      <td>-1.000000</td>\n",
       "      <td>-1.000000</td>\n",
       "      <td>-1.000000</td>\n",
       "      <td>-1.000000</td>\n",
       "    </tr>\n",
       "    <tr>\n",
       "      <th>2</th>\n",
       "      <td>2020-01-05</td>\n",
       "      <td>-1.000000</td>\n",
       "      <td>-1.000000</td>\n",
       "      <td>-1.0000</td>\n",
       "      <td>-1.000000</td>\n",
       "      <td>-1.000000</td>\n",
       "      <td>-1.000000</td>\n",
       "      <td>-1.000000</td>\n",
       "      <td>-1.000000</td>\n",
       "      <td>-1.000000</td>\n",
       "      <td>...</td>\n",
       "      <td>-1.000000</td>\n",
       "      <td>-1.000000</td>\n",
       "      <td>-1.000000</td>\n",
       "      <td>-1.000000</td>\n",
       "      <td>-1.000000</td>\n",
       "      <td>-1.0000</td>\n",
       "      <td>-1.000000</td>\n",
       "      <td>-1.000000</td>\n",
       "      <td>-1.000000</td>\n",
       "      <td>-1.000000</td>\n",
       "    </tr>\n",
       "    <tr>\n",
       "      <th>3</th>\n",
       "      <td>2020-01-06</td>\n",
       "      <td>-1.000000</td>\n",
       "      <td>-1.000000</td>\n",
       "      <td>-1.0000</td>\n",
       "      <td>-1.000000</td>\n",
       "      <td>-1.000000</td>\n",
       "      <td>-1.000000</td>\n",
       "      <td>-1.000000</td>\n",
       "      <td>-1.000000</td>\n",
       "      <td>-1.000000</td>\n",
       "      <td>...</td>\n",
       "      <td>-1.000000</td>\n",
       "      <td>-0.268657</td>\n",
       "      <td>-1.000000</td>\n",
       "      <td>1.000000</td>\n",
       "      <td>-0.544751</td>\n",
       "      <td>-1.0000</td>\n",
       "      <td>-0.946572</td>\n",
       "      <td>-0.451365</td>\n",
       "      <td>-1.000000</td>\n",
       "      <td>-0.245186</td>\n",
       "    </tr>\n",
       "    <tr>\n",
       "      <th>4</th>\n",
       "      <td>2020-01-08</td>\n",
       "      <td>-1.000000</td>\n",
       "      <td>-1.000000</td>\n",
       "      <td>-1.0000</td>\n",
       "      <td>-1.000000</td>\n",
       "      <td>0.007463</td>\n",
       "      <td>-1.000000</td>\n",
       "      <td>-1.000000</td>\n",
       "      <td>-1.000000</td>\n",
       "      <td>-1.000000</td>\n",
       "      <td>...</td>\n",
       "      <td>-1.000000</td>\n",
       "      <td>0.007463</td>\n",
       "      <td>-1.000000</td>\n",
       "      <td>-0.327399</td>\n",
       "      <td>1.000000</td>\n",
       "      <td>-1.0000</td>\n",
       "      <td>-0.352674</td>\n",
       "      <td>-0.242827</td>\n",
       "      <td>1.000000</td>\n",
       "      <td>0.039795</td>\n",
       "    </tr>\n",
       "    <tr>\n",
       "      <th>...</th>\n",
       "      <td>...</td>\n",
       "      <td>...</td>\n",
       "      <td>...</td>\n",
       "      <td>...</td>\n",
       "      <td>...</td>\n",
       "      <td>...</td>\n",
       "      <td>...</td>\n",
       "      <td>...</td>\n",
       "      <td>...</td>\n",
       "      <td>...</td>\n",
       "      <td>...</td>\n",
       "      <td>...</td>\n",
       "      <td>...</td>\n",
       "      <td>...</td>\n",
       "      <td>...</td>\n",
       "      <td>...</td>\n",
       "      <td>...</td>\n",
       "      <td>...</td>\n",
       "      <td>...</td>\n",
       "      <td>...</td>\n",
       "      <td>...</td>\n",
       "    </tr>\n",
       "    <tr>\n",
       "      <th>77</th>\n",
       "      <td>2020-03-30</td>\n",
       "      <td>-0.019608</td>\n",
       "      <td>-0.100000</td>\n",
       "      <td>-0.9540</td>\n",
       "      <td>-0.952414</td>\n",
       "      <td>-0.164179</td>\n",
       "      <td>-0.675978</td>\n",
       "      <td>-0.454545</td>\n",
       "      <td>-0.754190</td>\n",
       "      <td>-0.333333</td>\n",
       "      <td>...</td>\n",
       "      <td>0.117647</td>\n",
       "      <td>-0.059701</td>\n",
       "      <td>0.150838</td>\n",
       "      <td>-0.296477</td>\n",
       "      <td>-0.163214</td>\n",
       "      <td>-0.9096</td>\n",
       "      <td>-0.232416</td>\n",
       "      <td>0.247026</td>\n",
       "      <td>0.155556</td>\n",
       "      <td>0.703466</td>\n",
       "    </tr>\n",
       "    <tr>\n",
       "      <th>78</th>\n",
       "      <td>2020-03-31</td>\n",
       "      <td>-0.039216</td>\n",
       "      <td>-0.300000</td>\n",
       "      <td>-0.9536</td>\n",
       "      <td>-0.960812</td>\n",
       "      <td>-0.141791</td>\n",
       "      <td>-0.709497</td>\n",
       "      <td>-0.575758</td>\n",
       "      <td>-0.821229</td>\n",
       "      <td>-0.151515</td>\n",
       "      <td>...</td>\n",
       "      <td>0.107843</td>\n",
       "      <td>-0.070896</td>\n",
       "      <td>0.150838</td>\n",
       "      <td>-0.279307</td>\n",
       "      <td>-0.148603</td>\n",
       "      <td>-0.9144</td>\n",
       "      <td>-0.240525</td>\n",
       "      <td>0.296011</td>\n",
       "      <td>0.200000</td>\n",
       "      <td>0.739409</td>\n",
       "    </tr>\n",
       "    <tr>\n",
       "      <th>79</th>\n",
       "      <td>2020-04-01</td>\n",
       "      <td>0.078431</td>\n",
       "      <td>0.400000</td>\n",
       "      <td>-0.9524</td>\n",
       "      <td>-0.953814</td>\n",
       "      <td>-0.074627</td>\n",
       "      <td>-0.575419</td>\n",
       "      <td>-0.393939</td>\n",
       "      <td>-0.798883</td>\n",
       "      <td>-0.151515</td>\n",
       "      <td>...</td>\n",
       "      <td>0.254902</td>\n",
       "      <td>0.052239</td>\n",
       "      <td>0.217877</td>\n",
       "      <td>-0.321990</td>\n",
       "      <td>-0.055156</td>\n",
       "      <td>-0.9004</td>\n",
       "      <td>-0.151813</td>\n",
       "      <td>0.421973</td>\n",
       "      <td>0.074074</td>\n",
       "      <td>0.844673</td>\n",
       "    </tr>\n",
       "    <tr>\n",
       "      <th>80</th>\n",
       "      <td>2020-04-02</td>\n",
       "      <td>-0.117647</td>\n",
       "      <td>0.100000</td>\n",
       "      <td>-0.9592</td>\n",
       "      <td>-0.960812</td>\n",
       "      <td>-0.119403</td>\n",
       "      <td>-0.564246</td>\n",
       "      <td>-0.363636</td>\n",
       "      <td>-0.810056</td>\n",
       "      <td>0.030303</td>\n",
       "      <td>...</td>\n",
       "      <td>0.196078</td>\n",
       "      <td>0.141791</td>\n",
       "      <td>0.240223</td>\n",
       "      <td>-0.342236</td>\n",
       "      <td>-0.045452</td>\n",
       "      <td>-0.9168</td>\n",
       "      <td>-0.184996</td>\n",
       "      <td>0.370189</td>\n",
       "      <td>0.229630</td>\n",
       "      <td>0.815148</td>\n",
       "    </tr>\n",
       "    <tr>\n",
       "      <th>81</th>\n",
       "      <td>2020-04-03</td>\n",
       "      <td>-0.196078</td>\n",
       "      <td>0.133333</td>\n",
       "      <td>-0.9652</td>\n",
       "      <td>-0.970609</td>\n",
       "      <td>-0.268657</td>\n",
       "      <td>-0.754190</td>\n",
       "      <td>-0.090909</td>\n",
       "      <td>-0.944134</td>\n",
       "      <td>-0.090909</td>\n",
       "      <td>...</td>\n",
       "      <td>-0.098039</td>\n",
       "      <td>-0.074627</td>\n",
       "      <td>0.094972</td>\n",
       "      <td>-0.294574</td>\n",
       "      <td>-0.089152</td>\n",
       "      <td>-0.9268</td>\n",
       "      <td>-0.334071</td>\n",
       "      <td>0.424773</td>\n",
       "      <td>0.325926</td>\n",
       "      <td>0.727856</td>\n",
       "    </tr>\n",
       "  </tbody>\n",
       "</table>\n",
       "<p>82 rows × 34 columns</p>\n",
       "</div>"
      ],
      "text/plain": [
       "           day    health     death     bio      body    affect     anger  \\\n",
       "0   2019-12-31 -1.000000 -1.000000 -1.0000 -1.000000 -1.000000 -1.000000   \n",
       "1   2020-01-01 -1.000000 -1.000000  1.0000 -1.000000 -1.000000 -1.000000   \n",
       "2   2020-01-05 -1.000000 -1.000000 -1.0000 -1.000000 -1.000000 -1.000000   \n",
       "3   2020-01-06 -1.000000 -1.000000 -1.0000 -1.000000 -1.000000 -1.000000   \n",
       "4   2020-01-08 -1.000000 -1.000000 -1.0000 -1.000000  0.007463 -1.000000   \n",
       "..         ...       ...       ...     ...       ...       ...       ...   \n",
       "77  2020-03-30 -0.019608 -0.100000 -0.9540 -0.952414 -0.164179 -0.675978   \n",
       "78  2020-03-31 -0.039216 -0.300000 -0.9536 -0.960812 -0.141791 -0.709497   \n",
       "79  2020-04-01  0.078431  0.400000 -0.9524 -0.953814 -0.074627 -0.575419   \n",
       "80  2020-04-02 -0.117647  0.100000 -0.9592 -0.960812 -0.119403 -0.564246   \n",
       "81  2020-04-03 -0.196078  0.133333 -0.9652 -0.970609 -0.268657 -0.754190   \n",
       "\n",
       "       swear       anx       sad  ...  focusfuture    tentat     quant  \\\n",
       "0  -1.000000 -1.000000 -1.000000  ...    -1.000000 -0.171642 -1.000000   \n",
       "1  -1.000000 -1.000000 -1.000000  ...    -1.000000 -1.000000 -1.000000   \n",
       "2  -1.000000 -1.000000 -1.000000  ...    -1.000000 -1.000000 -1.000000   \n",
       "3  -1.000000 -1.000000 -1.000000  ...    -1.000000 -0.268657 -1.000000   \n",
       "4  -1.000000 -1.000000 -1.000000  ...    -1.000000  0.007463 -1.000000   \n",
       "..       ...       ...       ...  ...          ...       ...       ...   \n",
       "77 -0.454545 -0.754190 -0.333333  ...     0.117647 -0.059701  0.150838   \n",
       "78 -0.575758 -0.821229 -0.151515  ...     0.107843 -0.070896  0.150838   \n",
       "79 -0.393939 -0.798883 -0.151515  ...     0.254902  0.052239  0.217877   \n",
       "80 -0.363636 -0.810056  0.030303  ...     0.196078  0.141791  0.240223   \n",
       "81 -0.090909 -0.944134 -0.090909  ...    -0.098039 -0.074627  0.094972   \n",
       "\n",
       "      posemo    negemo  diseaseIndex  emotionIndex  relationIndex  \\\n",
       "0  -1.000000 -1.000000       -1.0000     -1.000000       0.865640   \n",
       "1  -1.000000 -1.000000        1.0000     -1.000000      -1.000000   \n",
       "2  -1.000000 -1.000000       -1.0000     -1.000000      -1.000000   \n",
       "3   1.000000 -0.544751       -1.0000     -0.946572      -0.451365   \n",
       "4  -0.327399  1.000000       -1.0000     -0.352674      -0.242827   \n",
       "..       ...       ...           ...           ...            ...   \n",
       "77 -0.296477 -0.163214       -0.9096     -0.232416       0.247026   \n",
       "78 -0.279307 -0.148603       -0.9144     -0.240525       0.296011   \n",
       "79 -0.321990 -0.055156       -0.9004     -0.151813       0.421973   \n",
       "80 -0.342236 -0.045452       -0.9168     -0.184996       0.370189   \n",
       "81 -0.294574 -0.089152       -0.9268     -0.334071       0.424773   \n",
       "\n",
       "    economyIndex  politicalIndex  \n",
       "0      -1.000000       -0.430039  \n",
       "1      -1.000000       -1.000000  \n",
       "2      -1.000000       -1.000000  \n",
       "3      -1.000000       -0.245186  \n",
       "4       1.000000        0.039795  \n",
       "..           ...             ...  \n",
       "77      0.155556        0.703466  \n",
       "78      0.200000        0.739409  \n",
       "79      0.074074        0.844673  \n",
       "80      0.229630        0.815148  \n",
       "81      0.325926        0.727856  \n",
       "\n",
       "[82 rows x 34 columns]"
      ]
     },
     "execution_count": 204,
     "metadata": {},
     "output_type": "execute_result"
    }
   ],
   "source": [
    "scores_df"
   ]
  },
  {
   "cell_type": "code",
   "execution_count": 205,
   "metadata": {},
   "outputs": [
    {
     "data": {
      "text/plain": [
       "<matplotlib.axes._subplots.AxesSubplot at 0x7f9e3f01f910>"
      ]
     },
     "execution_count": 205,
     "metadata": {},
     "output_type": "execute_result"
    },
    {
     "data": {
      "image/png": "[encoded data removed]",
      "text/plain": [
       "<Figure size 432x288 with 1 Axes>"
      ]
     },
     "metadata": {
      "needs_background": "light"
     },
     "output_type": "display_data"
    }
   ],
   "source": [
    "scores_df.posemo.plot()"
   ]
  },
  {
   "cell_type": "code",
   "execution_count": 206,
   "metadata": {},
   "outputs": [
    {
     "data": {
      "text/plain": [
       "<matplotlib.axes._subplots.AxesSubplot at 0x7f9e3eb662d0>"
      ]
     },
     "execution_count": 206,
     "metadata": {},
     "output_type": "execute_result"
    },
    {
     "data": {
      "image/png": "[encoded data removed]",
      "text/plain": [
       "<Figure size 432x288 with 1 Axes>"
      ]
     },
     "metadata": {
      "needs_background": "light"
     },
     "output_type": "display_data"
    }
   ],
   "source": [
    "scores_df.insight.plot()"
   ]
  },
  {
   "cell_type": "code",
   "execution_count": 207,
   "metadata": {},
   "outputs": [
    {
     "data": {
      "text/plain": [
       "<matplotlib.axes._subplots.AxesSubplot at 0x7f9e3f0080d0>"
      ]
     },
     "execution_count": 207,
     "metadata": {},
     "output_type": "execute_result"
    },
    {
     "data": {
      "image/png": "[encoded data removed]",
      "text/plain": [
       "<Figure size 432x288 with 1 Axes>"
      ]
     },
     "metadata": {
      "needs_background": "light"
     },
     "output_type": "display_data"
    }
   ],
   "source": [
    "scores_df.relationIndex.plot()"
   ]
  },
  {
   "cell_type": "code",
   "execution_count": 208,
   "metadata": {},
   "outputs": [],
   "source": [
    "scores_df.to_csv(\"tabular-data-output.csv\")"
   ]
  },
  {
   "cell_type": "markdown",
   "metadata": {},
   "source": [
    "#### Parse to fit frontend"
   ]
  },
  {
   "cell_type": "code",
   "execution_count": 209,
   "metadata": {},
   "outputs": [],
   "source": [
    "twitter_data = {}\n",
    "\n",
    "\n",
    "# the key to append to the dict\n",
    "for day in scores_df.day:\n",
    "    \n",
    "    dailydatadict = {}\n",
    "    \n",
    "    # ---------\n",
    "    dailydiseasedict = {}\n",
    "    for v in scores_df.diseaseIndex:\n",
    "        dailydiseasedict[\"diseaseIndex\"]=v\n",
    "    for v in scores_df.health:\n",
    "        dailydiseasedict[\"health\"]=v\n",
    "    for v in scores_df.death:\n",
    "        dailydiseasedict[\"death\"]=v\n",
    "    for v in scores_df.bio:\n",
    "        dailydiseasedict[\"bio\"]=v\n",
    "    for v in scores_df.body:\n",
    "        dailydiseasedict[\"body\"]=v\n",
    "    # ---------\n",
    "    dailyemotiondict = {}\n",
    "    for v in scores_df.emotionIndex:\n",
    "        dailyemotiondict[\"emotionIndex\"]=v\n",
    "    for v in scores_df.feel:\n",
    "        dailyemotiondict[\"feel\"]=v\n",
    "    for v in scores_df.negemo:\n",
    "        dailyemotiondict[\"negemo\"]=v\n",
    "    for v in scores_df.affect:\n",
    "        dailyemotiondict[\"affect\"]=v\n",
    "    for v in scores_df.swear:\n",
    "        dailyemotiondict[\"swear\"]=v\n",
    "    for v in scores_df.anx:\n",
    "        dailyemotiondict[\"anxiety\"]=v\n",
    "    for v in scores_df.sad:\n",
    "        dailyemotiondict[\"sad\"]=v\n",
    "    # ---------\n",
    "    dailyrelationdict = {}\n",
    "    for v in scores_df.relationIndex:\n",
    "        dailyrelationdict[\"relationIndex\"]=v\n",
    "    for v in scores_df.money:\n",
    "        dailyrelationdict[\"money\"]=v\n",
    "    for v in scores_df.work:\n",
    "        dailyrelationdict[\"work\"]=v\n",
    "    # ---------\n",
    "    dailyeconomydict = {}\n",
    "    for v in scores_df.economyIndex:\n",
    "        dailyeconomydict[\"economyIndex\"]=v\n",
    "    for v in scores_df.money:\n",
    "        dailyeconomydict[\"money\"]=v\n",
    "    for v in scores_df.work:\n",
    "        dailyeconomydict[\"work\"]=v\n",
    "    # ---------\n",
    "    dailypoliticaldict = {}\n",
    "    for v in scores_df.politicalIndex:\n",
    "        dailypoliticaldict[\"politicalIndex\"]=v\n",
    "    for v in scores_df.power:\n",
    "        dailypoliticaldict[\"power\"]=v\n",
    "    for v in scores_df.cause:\n",
    "        dailypoliticaldict[\"cause\"]=v\n",
    "    for v in scores_df.certain:\n",
    "        dailypoliticaldict[\"certain\"]=v\n",
    "    for v in scores_df.insight:\n",
    "        dailypoliticaldict[\"insight\"]=v\n",
    "    for v in scores_df.compare:\n",
    "        dailypoliticaldict[\"compare\"]=v\n",
    "    for v in scores_df.risk:\n",
    "        dailypoliticaldict[\"risk\"]=v\n",
    "    for v in scores_df.interrog:\n",
    "        dailypoliticaldict[\"interrog\"]=v\n",
    "    for v in scores_df.focusfuture:\n",
    "        dailypoliticaldict[\"focusfuture\"]=v\n",
    "    for v in scores_df.relig:\n",
    "        dailypoliticaldict[\"relig\"]=v\n",
    "    for v in scores_df.tentat:\n",
    "        dailypoliticaldict[\"tentat\"]=v\n",
    "    for v in scores_df.quant:\n",
    "        dailypoliticaldict[\"quant\"]=v\n",
    "    # ---------\n",
    "\n",
    "    \n",
    "    dailydatadict[\"disease\"] = dailydiseasedict\n",
    "    dailydatadict[\"emotion\"] = dailyemotiondict\n",
    "    dailydatadict[\"relation\"] = dailyrelationdict\n",
    "    dailydatadict[\"economy\"] = dailyeconomydict\n",
    "    dailydatadict[\"politiical\"] = dailypoliticaldict\n",
    "    \n",
    "    twitter_data[day]= dailydatadict"
   ]
  },
  {
   "cell_type": "code",
   "execution_count": 210,
   "metadata": {},
   "outputs": [],
   "source": [
    "with open('data-delivery-to-frontend.txt', 'w') as file:\n",
    "    file.write(str(twitter_data))"
   ]
  }
 ],
 "metadata": {
  "kernelspec": {
   "display_name": "Python 3",
   "language": "python",
   "name": "python3"
  },
  "language_info": {
   "codemirror_mode": {
    "name": "ipython",
    "version": 3
   },
   "file_extension": ".py",
   "mimetype": "text/x-python",
   "name": "python",
   "nbconvert_exporter": "python",
   "pygments_lexer": "ipython3",
   "version": "3.7.6"
  }
 },
 "nbformat": 4,
 "nbformat_minor": 4
}
